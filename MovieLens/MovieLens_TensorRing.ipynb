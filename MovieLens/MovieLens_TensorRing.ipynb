{
 "cells": [
  {
   "cell_type": "code",
   "execution_count": 5,
   "metadata": {},
   "outputs": [],
   "source": [
    "import numpy as np\n",
    "import tensorflow as tf\n",
    "\n",
    "from sklearn.linear_model import LogisticRegression\n",
    "from sklearn.metrics import roc_auc_score\n",
    "import json\n",
    "import pickle\n",
    "from sklearn.externals import joblib"
   ]
  },
  {
   "cell_type": "code",
   "execution_count": 6,
   "metadata": {},
   "outputs": [],
   "source": [
    "from TensorRing_Machine import TensorRing_Machine, simple_batcher\n",
    "from numpy import load\n"
   ]
  },
  {
   "cell_type": "code",
   "execution_count": 7,
   "metadata": {},
   "outputs": [
    {
     "name": "stderr",
     "output_type": "stream",
     "text": [
      "/opt/anaconda3/envs/Datathon2019/lib/python3.7/site-packages/sklearn/preprocessing/_encoders.py:415: FutureWarning: The handling of integer data will change in version 0.22. Currently, the categories are determined based on the range [0, max(values)], while in the future they will be determined based on the unique values.\n",
      "If you want the future behaviour and silence this warning, you can specify \"categories='auto'\".\n",
      "In case you used a LabelEncoder before this OneHotEncoder to convert the categories to integers, then you can now use the OneHotEncoder directly.\n",
      "  warnings.warn(msg, FutureWarning)\n",
      "/opt/anaconda3/envs/Datathon2019/lib/python3.7/site-packages/sklearn/linear_model/logistic.py:432: FutureWarning: Default solver will be changed to 'lbfgs' in 0.22. Specify a solver to silence this warning.\n",
      "  FutureWarning)\n"
     ]
    },
    {
     "name": "stdout",
     "output_type": "stream",
     "text": [
      "0.7821230253636114\n",
      "2: te_auc: 0.7664\n",
      "4: te_auc: 0.7717\n",
      "6: te_auc: 0.7754\n",
      "8: te_auc: 0.7772\n",
      "10: te_auc: 0.7778\n",
      "12: te_auc: 0.7789\n",
      "14: te_auc: 0.7801\n",
      "16: te_auc: 0.7808\n",
      "18: te_auc: 0.7811\n",
      "20: te_auc: 0.7812\n",
      "22: te_auc: 0.7813\n",
      "24: te_auc: 0.7814\n",
      "26: te_auc: 0.7815\n",
      "28: te_auc: 0.7815\n",
      "30: te_auc: 0.7815\n",
      "32: te_auc: 0.7814\n",
      "34: te_auc: 0.7815\n",
      "36: te_auc: 0.7817\n",
      "38: te_auc: 0.7822\n",
      "40: te_auc: 0.7826\n",
      "42: te_auc: 0.7827\n",
      "44: te_auc: 0.7827\n",
      "46: te_auc: 0.7827\n",
      "48: te_auc: 0.7827\n",
      "50: te_auc: 0.7827\n",
      "52: te_auc: 0.7826\n",
      "54: te_auc: 0.7826\n",
      "56: te_auc: 0.7826\n",
      "58: te_auc: 0.7826\n",
      "60: te_auc: 0.7826\n",
      "62: te_auc: 0.7826\n",
      "64: te_auc: 0.7826\n",
      "66: te_auc: 0.7826\n",
      "68: te_auc: 0.7826\n",
      "70: te_auc: 0.7826\n",
      "72: te_auc: 0.7826\n",
      "74: te_auc: 0.7826\n",
      "76: te_auc: 0.7826\n",
      "78: te_auc: 0.7827\n",
      "80: te_auc: 0.7826\n",
      "82: te_auc: 0.7826\n",
      "84: te_auc: 0.7826\n",
      "86: te_auc: 0.7826\n",
      "88: te_auc: 0.7826\n",
      "90: te_auc: 0.7826\n",
      "92: te_auc: 0.7826\n",
      "94: te_auc: 0.7825\n",
      "96: te_auc: 0.7825\n",
      "98: te_auc: 0.7825\n",
      "100: te_auc: 0.7825\n"
     ]
    }
   ],
   "source": [
    "import numpy as np\n",
    "import tensorflow as tf\n",
    "\n",
    "import json\n",
    "import pickle\n",
    "from sklearn.externals import joblib\n",
    "\n",
    "from TensorRing_Machine import TensorRing_Machine, simple_batcher\n",
    "from numpy import load\n",
    "\n",
    "X_tr=load('x_train.npy')\n",
    "X_te=load('x_test.npy')\n",
    "y_tr=load('y_train.npy')\n",
    "y_te=load('y_test.npy')\n",
    "\n",
    "\n",
    "#%%\n",
    "from sklearn.preprocessing import OneHotEncoder\n",
    "from sklearn.linear_model import LogisticRegression\n",
    "from sklearn.metrics import roc_auc_score\n",
    "oh = OneHotEncoder()\n",
    "oh.fit(np.vstack((X_tr, X_te))-1)\n",
    "X_tr_sp = oh.transform(X_tr-1)\n",
    "X_te_sp = oh.transform(X_te-1)\n",
    "logreg = LogisticRegression()\n",
    "logreg.fit(X_tr_sp, y_tr)\n",
    "y_pred = logreg.predict_proba(X_te_sp)[:, 1]\n",
    "print(roc_auc_score(y_te, y_pred))\n",
    "#%%\n",
    "target_rank = 10\n",
    "s_features=[7,2,21,19,943,1682,10,2,2,2,2,2,2,2,2,2,2,2,2,2,2,2,2,2,2,2]\n",
    "\n",
    "num_features = len(s_features)\n",
    "w_cores = [None] * num_features\n",
    "\n",
    "coef = logreg.coef_[0]\n",
    "intercept = logreg.intercept_[0]\n",
    "\n",
    "# see paper for details about initialization\n",
    "begin_feature = [0] + list(np.cumsum(s_features))\n",
    "for i in range(num_features):\n",
    "    n_factors = s_features[i] # n factors is d \n",
    "    if i == 0:\n",
    "        tmp = np.zeros((n_factors+1, target_rank, target_rank)) # dxmxm\n",
    "        for local_j, global_j in enumerate([-1] + list(range(begin_feature[i], s_features[i]))):\n",
    "            if local_j==0:\n",
    "                tmp[local_j,:1,:2] = [1, 0]\n",
    "            else:\n",
    "                tmp[local_j,:1,:2] = [0, coef[global_j]]\n",
    "        w_cores[i] = tmp.astype(np.float32)\n",
    "            \n",
    "    elif i == num_features-1:\n",
    "        tmp = np.zeros((n_factors+1, target_rank, target_rank))\n",
    "        for local_j, global_j in enumerate([-1] + list(range(begin_feature[i], s_features[i]))):\n",
    "            if local_j==0:\n",
    "                tmp[local_j,:2,:1] = np.array([[intercept], [1]])\n",
    "            else:\n",
    "                tmp[local_j,:2,:1] = [[coef[global_j]], [0]]\n",
    "        w_cores[i] = tmp.astype(np.float32)\n",
    "            \n",
    "    else:\n",
    "        tmp = np.zeros((n_factors+1, target_rank, target_rank))\n",
    "        for local_j, global_j in enumerate([-1] + list(range(begin_feature[i], s_features[i]))):\n",
    "            if local_j==0:\n",
    "                tmp[local_j,:2,:2] = np.eye(2)\n",
    "            else:\n",
    "                tmp[local_j,:2,:2] = [[0, coef[global_j]], [0,0]]\n",
    "        w_cores[i] = tmp.astype(np.float32)\n",
    "        \n",
    "        \n",
    "#%%\n",
    "model = TensorRing_Machine(rank=target_rank, s_features=s_features, init_std=0.001, reg=0.012, exp_reg=1.8)\n",
    "model.init_from_cores(w_cores)\n",
    "model.build_graph()\n",
    "model.initialize_session()\n",
    "\n",
    "epoch_hist = []\n",
    "for epoch in range(101):\n",
    "    # train phase\n",
    "    loss_hist = []\n",
    "    penalty_hist = []\n",
    "    for x, y in simple_batcher(X_tr, y_tr, 256):\n",
    "        fd = {model.X: x, model.Y: 2*y-1}\n",
    "        run_ops = [model.trainer, model.outputs, model.loss, model.penalty]\n",
    "        _, outs, batch_loss, penalty = model.session.run(run_ops, fd)\n",
    "        loss_hist.append(batch_loss)\n",
    "        penalty_hist.append(penalty)\n",
    "    epoch_train_loss = np.mean(loss_hist)\n",
    "    epoch_train_pen = np.mean(penalty_hist)\n",
    "    \n",
    "    epoch_stats = {\n",
    "        'epoch': epoch,\n",
    "        'train_logloss': float(epoch_train_loss)\n",
    "    }\n",
    "    \n",
    "    # test phase\n",
    "    if epoch%2==0 and epoch>0:\n",
    "        fd = {model.X: X_te, model.Y: 2*y_te-1}\n",
    "        run_ops = [model.outputs, model.loss, model.penalty, model.penalized_loss]\n",
    "        outs, raw_loss, raw_penalty, loss = model.session.run(run_ops, fd)\n",
    "        epoch_test_loss = roc_auc_score(y_te, outs)\n",
    "        epoch_stats['test_auc'] = float(epoch_test_loss),\n",
    "        epoch_stats['penalty'] = float(raw_penalty)\n",
    "        print('{}: te_auc: {:.4f}'.format(epoch, epoch_test_loss))\n",
    "    epoch_hist.append(epoch_stats)\n",
    "    \n",
    "        "
   ]
  },
  {
   "cell_type": "code",
   "execution_count": 8,
   "metadata": {},
   "outputs": [
    {
     "name": "stdout",
     "output_type": "stream",
     "text": [
      "Populating the interactive namespace from numpy and matplotlib\n"
     ]
    },
    {
     "data": {
      "text/plain": [
       "Text(0, 0.5, 'test auc')"
      ]
     },
     "execution_count": 8,
     "metadata": {},
     "output_type": "execute_result"
    },
    {
     "data": {
      "image/png": "[encoded data removed]",
      "text/plain": [
       "<Figure size 432x288 with 1 Axes>"
      ]
     },
     "metadata": {
      "needs_background": "light"
     },
     "output_type": "display_data"
    }
   ],
   "source": [
    "%pylab inline\n",
    "plot([x['epoch'] for x in epoch_hist if 'test_auc' in x], [x['test_auc'] for x in epoch_hist if 'test_auc' in x])\n",
    "grid()\n",
    "ylim(0.775, 0.785)\n",
    "xlabel('epoch')\n",
    "ylabel('test auc')"
   ]
  },
  {
   "cell_type": "code",
   "execution_count": null,
   "metadata": {},
   "outputs": [],
   "source": []
  }
 ],
 "metadata": {
  "anaconda-cloud": {},
  "kernelspec": {
   "display_name": "Python 3",
   "language": "python",
   "name": "python3"
  },
  "language_info": {
   "codemirror_mode": {
    "name": "ipython",
    "version": 3
   },
   "file_extension": ".py",
   "mimetype": "text/x-python",
   "name": "python",
   "nbconvert_exporter": "python",
   "pygments_lexer": "ipython3",
   "version": "3.7.5"
  }
 },
 "nbformat": 4,
 "nbformat_minor": 1
}
